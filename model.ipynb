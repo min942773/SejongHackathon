{
 "cells": [
  {
   "cell_type": "code",
   "execution_count": 1,
   "metadata": {},
   "outputs": [
    {
     "name": "stdout",
     "output_type": "stream",
     "text": [
      "[i] Loaded Parameters:\n",
      " 40000 35 0.2 200\n"
     ]
    }
   ],
   "source": [
    "MAX_NB_WORDS = 40000 # max no. of words for tokenizer\n",
    "MAX_SEQUENCE_LENGTH = 30 # max length of text (words) including padding\n",
    "VALIDATION_SPLIT = 0.2\n",
    "EMBEDDING_DIM = 200 # embedding dimensions for word vectors (word2vec/GloVe)\n",
    "NUM_LABELS = 3\n",
    "print(\"[i] Loaded Parameters:\\n\",\n",
    "      MAX_NB_WORDS,MAX_SEQUENCE_LENGTH+5,\n",
    "      VALIDATION_SPLIT,EMBEDDING_DIM)"
   ]
  },
  {
   "cell_type": "code",
   "execution_count": 2,
   "metadata": {},
   "outputs": [
    {
     "name": "stdout",
     "output_type": "stream",
     "text": [
      "Requirement already satisfied: keras in c:\\users\\user\\miniconda3\\lib\\site-packages (2.2.4)\n",
      "Requirement already satisfied: numpy>=1.9.1 in c:\\users\\user\\miniconda3\\lib\\site-packages (from keras) (1.16.2)\n",
      "Requirement already satisfied: six>=1.9.0 in c:\\users\\user\\miniconda3\\lib\\site-packages (from keras) (1.12.0)\n",
      "Requirement already satisfied: keras-preprocessing>=1.0.5 in c:\\users\\user\\miniconda3\\lib\\site-packages (from keras) (1.0.9)\n",
      "Requirement already satisfied: h5py in c:\\users\\user\\miniconda3\\lib\\site-packages (from keras) (2.9.0)\n",
      "Requirement already satisfied: pyyaml in c:\\users\\user\\miniconda3\\lib\\site-packages (from keras) (3.13)\n",
      "Requirement already satisfied: scipy>=0.14 in c:\\users\\user\\miniconda3\\lib\\site-packages (from keras) (1.2.1)\n",
      "Requirement already satisfied: keras-applications>=1.0.6 in c:\\users\\user\\miniconda3\\lib\\site-packages (from keras) (1.0.7)\n",
      "Note: you may need to restart the kernel to use updated packages.\n"
     ]
    }
   ],
   "source": [
    "pip install keras"
   ]
  },
  {
   "cell_type": "code",
   "execution_count": 3,
   "metadata": {},
   "outputs": [
    {
     "name": "stdout",
     "output_type": "stream",
     "text": [
      "[i] Importing Modules...\n"
     ]
    },
    {
     "name": "stderr",
     "output_type": "stream",
     "text": [
      "Using TensorFlow backend.\n"
     ]
    },
    {
     "name": "stdout",
     "output_type": "stream",
     "text": [
      "[+] Using Keras version 2.2.4\n",
      "[+] Finished Importing Modules\n"
     ]
    }
   ],
   "source": [
    "print(\"[i] Importing Modules...\")\n",
    "import numpy as np\n",
    "import pandas as pd\n",
    "import re, sys, os, csv, keras, pickle\n",
    "\n",
    "from keras import regularizers, initializers, optimizers, callbacks\n",
    "from keras.preprocessing.text import Tokenizer\n",
    "from keras.preprocessing.sequence import pad_sequences\n",
    "from keras.utils.np_utils import to_categorical\n",
    "from keras.layers import Embedding\n",
    "from keras.layers import Dense, Input, Flatten, Concatenate\n",
    "from keras.layers import Conv1D, MaxPooling1D, Embedding, Add, Dropout, LSTM, GRU, Bidirectional\n",
    "from keras.models import Model\n",
    "from keras import backend as K\n",
    "from keras.engine.topology import Layer, InputSpec\n",
    "print(\"[+] Using Keras version\",keras.__version__)\n",
    "print(\"[+] Finished Importing Modules\")"
   ]
  },
  {
   "cell_type": "code",
   "execution_count": 4,
   "metadata": {},
   "outputs": [
    {
     "name": "stdout",
     "output_type": "stream",
     "text": [
      "[i] Reading from csv file...Done!\n"
     ]
    }
   ],
   "source": [
    "texts, labels = [], []\n",
    "print(\"[i] Reading from csv file...\", end=\"\")\n",
    "readCSV = pd.read_csv(open('training_data2.csv', encoding='utf-8'))\n",
    "#null_list = readCSV[readCSV['text'].isnull()].index.tolist()\n",
    "#readCSV = csv.reader(\"training_data2.csv\", delimiter=',')\n",
    "for i in range(len(readCSV)):\n",
    "    texts.append(readCSV[\"text\"][i])\n",
    "    labels.append(readCSV[\"label\"][i])\n",
    "\n",
    "texts = list(filter(None, texts))\n",
    "print(\"Done!\")"
   ]
  },
  {
   "cell_type": "code",
   "execution_count": 5,
   "metadata": {},
   "outputs": [
    {
     "name": "stdout",
     "output_type": "stream",
     "text": [
      "[i] Saved word tokenizer to file: tokenizer.pickle\n"
     ]
    }
   ],
   "source": [
    "tokenizer = Tokenizer(num_words=MAX_NB_WORDS)\n",
    "tokenizer.fit_on_texts(texts)\n",
    "with open('tokenizer.pickle', 'wb') as handle:\n",
    "    pickle.dump(tokenizer, handle, protocol=pickle.HIGHEST_PROTOCOL)\n",
    "print(\"[i] Saved word tokenizer to file: tokenizer.pickle\")"
   ]
  },
  {
   "cell_type": "code",
   "execution_count": 6,
   "metadata": {},
   "outputs": [],
   "source": [
    "with open('tokenizer.pickle', 'rb') as handle:\n",
    "    tokenizer = pickle.load(handle)"
   ]
  },
  {
   "cell_type": "code",
   "execution_count": 7,
   "metadata": {},
   "outputs": [
    {
     "name": "stdout",
     "output_type": "stream",
     "text": [
      "[i] Found 97 unique tokens.\n"
     ]
    }
   ],
   "source": [
    "sequences = tokenizer.texts_to_sequences(texts)\n",
    "word_index = tokenizer.word_index\n",
    "print('[i] Found %s unique tokens.' % len(word_index))\n",
    "data_int = pad_sequences(sequences, padding='pre', maxlen=(MAX_SEQUENCE_LENGTH-5))\n",
    "data = pad_sequences(data_int, padding='post', maxlen=(MAX_SEQUENCE_LENGTH))"
   ]
  },
  {
   "cell_type": "code",
   "execution_count": 8,
   "metadata": {},
   "outputs": [
    {
     "name": "stdout",
     "output_type": "stream",
     "text": [
      "[+] Shape of data tensor: (70, 30)\n",
      "[+] Shape of label tensor: (70, 3)\n"
     ]
    }
   ],
   "source": [
    "labels = to_categorical(np.asarray(labels)) # convert to one-hot encoding vectors\n",
    "print('[+] Shape of data tensor:', data.shape)\n",
    "print('[+] Shape of label tensor:', labels.shape)"
   ]
  },
  {
   "cell_type": "code",
   "execution_count": 9,
   "metadata": {},
   "outputs": [],
   "source": [
    "indices = np.arange(data.shape[0])\n",
    "np.random.shuffle(indices)\n",
    "data = data[indices]\n",
    "labels = labels[indices]\n",
    "nb_validation_samples = int(VALIDATION_SPLIT * data.shape[0])"
   ]
  },
  {
   "cell_type": "code",
   "execution_count": 10,
   "metadata": {},
   "outputs": [
    {
     "name": "stdout",
     "output_type": "stream",
     "text": [
      "[i] Number of entries in each category:\n",
      "[+] Training:\n",
      " [15. 18. 16.]\n",
      "[+] Validation:\n",
      " [ 6.  5. 10.]\n"
     ]
    }
   ],
   "source": [
    "from sklearn.model_selection import train_test_split\n",
    "\n",
    "x_train, x_val, y_train, y_val = train_test_split(data, labels, test_size=0.3, random_state=42)\n",
    "\n",
    "print('[i] Number of entries in each category:')\n",
    "print(\"[+] Training:\\n\",y_train.sum(axis=0))\n",
    "print(\"[+] Validation:\\n\",y_val.sum(axis=0))"
   ]
  },
  {
   "cell_type": "code",
   "execution_count": 11,
   "metadata": {},
   "outputs": [
    {
     "name": "stdout",
     "output_type": "stream",
     "text": [
      "[i] Completed!\n",
      "[i] Finished running setup.\n"
     ]
    }
   ],
   "source": [
    "embeddings_index = {}\n",
    "embedding_matrix = np.random.random((len(word_index) + 1, EMBEDDING_DIM))\n",
    "for word, i in word_index.items():\n",
    "    embedding_vector = embeddings_index.get(word)\n",
    "    if embedding_vector is not None:\n",
    "        # words not found in embedding index will be all-zeros.\n",
    "        embedding_matrix[i] = embedding_vector\n",
    "print(\"[i] Completed!\")\n",
    "\n",
    "print(\"[i] Finished running setup.\")"
   ]
  },
  {
   "cell_type": "code",
   "execution_count": 12,
   "metadata": {},
   "outputs": [],
   "source": [
    "def get_lr_metric(optimizer):\n",
    "    def lr(y_true, y_pred):\n",
    "        return optimizer.lr\n",
    "    return lr\n",
    "\n",
    "def initial_boost(epoch):\n",
    "    if epoch==0: return float(8.0)\n",
    "    elif epoch==1: return float(4.0)\n",
    "    elif epoch==2: return float(2.0)\n",
    "    elif epoch==3: return float(1.5)\n",
    "    else: return float(1.0)\n",
    "\n",
    "def step_cyclic(epoch):\n",
    "    try:\n",
    "        l_r, decay = 1.0, 0.0001\n",
    "        if epoch%33==0:multiplier = 10\n",
    "        else:multiplier = 1\n",
    "        rate = float(multiplier * l_r * 1/(1 + decay * epoch))\n",
    "        #print(\"Epoch\",epoch+1,\"- learning_rate\",rate)\n",
    "        return rate\n",
    "    except Exception as e:\n",
    "        print(\"Error in lr_schedule:\",str(e))\n",
    "        return float(1.0)"
   ]
  },
  {
   "cell_type": "code",
   "execution_count": 13,
   "metadata": {},
   "outputs": [
    {
     "name": "stdout",
     "output_type": "stream",
     "text": [
      "Completed!\n"
     ]
    }
   ],
   "source": [
    "embedding_matrix_ns = np.random.random((len(word_index) + 1, EMBEDDING_DIM))\n",
    "for word, i in word_index.items():\n",
    "    embedding_vector = embeddings_index.get(word)\n",
    "    if embedding_vector is not None:\n",
    "        # words not found in embedding index will be all-zeros.\n",
    "        embedding_matrix_ns[i] = embedding_vector\n",
    "print(\"Completed!\")"
   ]
  },
  {
   "cell_type": "code",
   "execution_count": 14,
   "metadata": {},
   "outputs": [],
   "source": [
    "sequence_input = Input(shape=(MAX_SEQUENCE_LENGTH,), dtype='int32')"
   ]
  },
  {
   "cell_type": "code",
   "execution_count": 15,
   "metadata": {},
   "outputs": [
    {
     "name": "stdout",
     "output_type": "stream",
     "text": [
      "WARNING:tensorflow:From C:\\Users\\user\\Miniconda3\\lib\\site-packages\\tensorflow\\python\\framework\\op_def_library.py:263: colocate_with (from tensorflow.python.framework.ops) is deprecated and will be removed in a future version.\n",
      "Instructions for updating:\n",
      "Colocations handled automatically by placer.\n"
     ]
    }
   ],
   "source": [
    "# static channel\n",
    "embedding_layer_frozen = Embedding(len(word_index) + 1,\n",
    "                            EMBEDDING_DIM,\n",
    "                            weights=[embedding_matrix],\n",
    "                            input_length=MAX_SEQUENCE_LENGTH,\n",
    "                            trainable=False)\n",
    "embedded_sequences_frozen = embedding_layer_frozen(sequence_input)"
   ]
  },
  {
   "cell_type": "code",
   "execution_count": 16,
   "metadata": {},
   "outputs": [],
   "source": [
    "# non-static channel\n",
    "embedding_layer_train = Embedding(len(word_index) + 1,\n",
    "                            EMBEDDING_DIM,\n",
    "                            weights=[embedding_matrix_ns],\n",
    "                            input_length=MAX_SEQUENCE_LENGTH,\n",
    "                            trainable=True)\n",
    "embedded_sequences_train = embedding_layer_train(sequence_input)"
   ]
  },
  {
   "cell_type": "code",
   "execution_count": 17,
   "metadata": {},
   "outputs": [
    {
     "name": "stdout",
     "output_type": "stream",
     "text": [
      "WARNING:tensorflow:From C:\\Users\\user\\Miniconda3\\lib\\site-packages\\keras\\backend\\tensorflow_backend.py:3445: calling dropout (from tensorflow.python.ops.nn_ops) with keep_prob is deprecated and will be removed in a future version.\n",
      "Instructions for updating:\n",
      "Please use `rate` instead of `keep_prob`. Rate should be set to `rate = 1 - keep_prob`.\n"
     ]
    }
   ],
   "source": [
    "l_lstm1f = Bidirectional(LSTM(6,return_sequences=True,dropout=0.3, recurrent_dropout=0.0))(embedded_sequences_frozen)\n",
    "l_lstm1t = Bidirectional(LSTM(6,return_sequences=True,dropout=0.3, recurrent_dropout=0.0))(embedded_sequences_train)\n",
    "l_lstm1 = Concatenate(axis=1)([l_lstm1f, l_lstm1t])"
   ]
  },
  {
   "cell_type": "code",
   "execution_count": 18,
   "metadata": {},
   "outputs": [],
   "source": [
    "l_conv_2 = Conv1D(filters=24,kernel_size=2,activation='relu')(l_lstm1)\n",
    "l_conv_2 = Dropout(0.3)(l_conv_2)\n",
    "l_conv_3 = Conv1D(filters=24,kernel_size=3,activation='relu')(l_lstm1)\n",
    "l_conv_3 = Dropout(0.3)(l_conv_3)"
   ]
  },
  {
   "cell_type": "code",
   "execution_count": 19,
   "metadata": {},
   "outputs": [],
   "source": [
    "l_conv_5 = Conv1D(filters=24,kernel_size=5,activation='relu',)(l_lstm1)\n",
    "l_conv_5 = Dropout(0.3)(l_conv_5)\n",
    "l_conv_6 = Conv1D(filters=24,kernel_size=6,activation='relu',kernel_regularizer=regularizers.l2(0.0001))(l_lstm1)\n",
    "l_conv_6 = Dropout(0.3)(l_conv_6)"
   ]
  },
  {
   "cell_type": "code",
   "execution_count": 20,
   "metadata": {},
   "outputs": [],
   "source": [
    "l_conv_8 = Conv1D(filters=24,kernel_size=8,activation='relu',kernel_regularizer=regularizers.l2(0.0001))(l_lstm1)\n",
    "l_conv_8 = Dropout(0.3)(l_conv_8)"
   ]
  },
  {
   "cell_type": "code",
   "execution_count": 21,
   "metadata": {},
   "outputs": [],
   "source": [
    "conv_1 = [l_conv_6,l_conv_5, l_conv_8,l_conv_2,l_conv_3]"
   ]
  },
  {
   "cell_type": "code",
   "execution_count": 22,
   "metadata": {},
   "outputs": [],
   "source": [
    "l_lstm_c = Concatenate(axis=1)(conv_1)"
   ]
  },
  {
   "cell_type": "code",
   "execution_count": 23,
   "metadata": {},
   "outputs": [],
   "source": [
    "l_conv_4f = Conv1D(filters=12,kernel_size=4,activation='relu',kernel_regularizer=regularizers.l2(0.0001))(embedded_sequences_frozen)\n",
    "l_conv_4f = Dropout(0.3)(l_conv_4f)\n",
    "l_conv_4t = Conv1D(filters=12,kernel_size=4,activation='relu',kernel_regularizer=regularizers.l2(0.0001))(embedded_sequences_train)\n",
    "l_conv_4t = Dropout(0.3)(l_conv_4t)"
   ]
  },
  {
   "cell_type": "code",
   "execution_count": 24,
   "metadata": {},
   "outputs": [],
   "source": [
    "l_conv_3f = Conv1D(filters=12,kernel_size=3,activation='relu',)(embedded_sequences_frozen)\n",
    "l_conv_3f = Dropout(0.3)(l_conv_3f)\n",
    "l_conv_3t = Conv1D(filters=12,kernel_size=3,activation='relu',)(embedded_sequences_train)\n",
    "l_conv_3t = Dropout(0.3)(l_conv_3t)"
   ]
  },
  {
   "cell_type": "code",
   "execution_count": 25,
   "metadata": {},
   "outputs": [],
   "source": [
    "l_conv_2f = Conv1D(filters=12,kernel_size=2,activation='relu')(embedded_sequences_frozen)\n",
    "l_conv_2f = Dropout(0.3)(l_conv_2f)\n",
    "l_conv_2t = Conv1D(filters=12,kernel_size=2,activation='relu')(embedded_sequences_train)\n",
    "l_conv_2t = Dropout(0.3)(l_conv_2t)"
   ]
  },
  {
   "cell_type": "code",
   "execution_count": 26,
   "metadata": {},
   "outputs": [],
   "source": [
    "conv_2 = [l_conv_4f, l_conv_4t,l_conv_3f, l_conv_3t, l_conv_2f, l_conv_2t]"
   ]
  },
  {
   "cell_type": "code",
   "execution_count": 27,
   "metadata": {},
   "outputs": [],
   "source": [
    "l_merge_2 = Concatenate(axis=1)(conv_2)\n",
    "l_c_lstm = Bidirectional(LSTM(12,return_sequences=True,dropout=0.3, recurrent_dropout=0.0))(l_merge_2)"
   ]
  },
  {
   "cell_type": "code",
   "execution_count": 28,
   "metadata": {},
   "outputs": [],
   "source": [
    "l_merge = Concatenate(axis=1)([l_lstm_c, l_c_lstm])\n",
    "l_pool = MaxPooling1D(4)(l_merge)\n",
    "l_drop = Dropout(0.5)(l_pool)\n",
    "l_flat = Flatten()(l_drop)\n",
    "l_dense = Dense(26, activation='relu')(l_flat)\n",
    "preds = Dense(NUM_LABELS, activation='softmax')(l_dense)"
   ]
  },
  {
   "cell_type": "code",
   "execution_count": 29,
   "metadata": {},
   "outputs": [],
   "source": [
    "model = Model(sequence_input, preds)\n",
    "adadelta = optimizers.Adadelta(lr=0.9, rho=0.95, epsilon=None, decay=0.002)\n",
    "lr_metric = get_lr_metric(adadelta)\n",
    "model.compile(loss='categorical_crossentropy',\n",
    "              optimizer=adadelta,\n",
    "              metrics=['acc'])"
   ]
  },
  {
   "cell_type": "code",
   "execution_count": 30,
   "metadata": {},
   "outputs": [],
   "source": [
    "tensorboard = callbacks.TensorBoard(log_dir='./logs', histogram_freq=0, batch_size=16, write_grads=True , write_graph=True)\n",
    "model_checkpoints = callbacks.ModelCheckpoint(\"checkpoint-0.91.h5\", monitor='val_loss', verbose=0, save_best_only=True, save_weights_only=False, mode='auto', period=0)\n",
    "lr_schedule = callbacks.LearningRateScheduler(initial_boost)"
   ]
  },
  {
   "cell_type": "code",
   "execution_count": 31,
   "metadata": {},
   "outputs": [
    {
     "name": "stdout",
     "output_type": "stream",
     "text": [
      "__________________________________________________________________________________________________\n",
      "Layer (type)                    Output Shape         Param #     Connected to                     \n",
      "==================================================================================================\n",
      "input_1 (InputLayer)            (None, 30)           0                                            \n",
      "__________________________________________________________________________________________________\n",
      "embedding_1 (Embedding)         (None, 30, 200)      19600       input_1[0][0]                    \n",
      "__________________________________________________________________________________________________\n",
      "embedding_2 (Embedding)         (None, 30, 200)      19600       input_1[0][0]                    \n",
      "__________________________________________________________________________________________________\n",
      "bidirectional_1 (Bidirectional) (None, 30, 12)       9936        embedding_1[0][0]                \n",
      "__________________________________________________________________________________________________\n",
      "bidirectional_2 (Bidirectional) (None, 30, 12)       9936        embedding_2[0][0]                \n",
      "__________________________________________________________________________________________________\n",
      "concatenate_1 (Concatenate)     (None, 60, 12)       0           bidirectional_1[0][0]            \n",
      "                                                                 bidirectional_2[0][0]            \n",
      "__________________________________________________________________________________________________\n",
      "conv1d_6 (Conv1D)               (None, 27, 12)       9612        embedding_1[0][0]                \n",
      "__________________________________________________________________________________________________\n",
      "conv1d_7 (Conv1D)               (None, 27, 12)       9612        embedding_2[0][0]                \n",
      "__________________________________________________________________________________________________\n",
      "conv1d_8 (Conv1D)               (None, 28, 12)       7212        embedding_1[0][0]                \n",
      "__________________________________________________________________________________________________\n",
      "conv1d_9 (Conv1D)               (None, 28, 12)       7212        embedding_2[0][0]                \n",
      "__________________________________________________________________________________________________\n",
      "conv1d_10 (Conv1D)              (None, 29, 12)       4812        embedding_1[0][0]                \n",
      "__________________________________________________________________________________________________\n",
      "conv1d_11 (Conv1D)              (None, 29, 12)       4812        embedding_2[0][0]                \n",
      "__________________________________________________________________________________________________\n",
      "conv1d_4 (Conv1D)               (None, 55, 24)       1752        concatenate_1[0][0]              \n",
      "__________________________________________________________________________________________________\n",
      "conv1d_3 (Conv1D)               (None, 56, 24)       1464        concatenate_1[0][0]              \n",
      "__________________________________________________________________________________________________\n",
      "conv1d_5 (Conv1D)               (None, 53, 24)       2328        concatenate_1[0][0]              \n",
      "__________________________________________________________________________________________________\n",
      "conv1d_1 (Conv1D)               (None, 59, 24)       600         concatenate_1[0][0]              \n",
      "__________________________________________________________________________________________________\n",
      "conv1d_2 (Conv1D)               (None, 58, 24)       888         concatenate_1[0][0]              \n",
      "__________________________________________________________________________________________________\n",
      "dropout_6 (Dropout)             (None, 27, 12)       0           conv1d_6[0][0]                   \n",
      "__________________________________________________________________________________________________\n",
      "dropout_7 (Dropout)             (None, 27, 12)       0           conv1d_7[0][0]                   \n",
      "__________________________________________________________________________________________________\n",
      "dropout_8 (Dropout)             (None, 28, 12)       0           conv1d_8[0][0]                   \n",
      "__________________________________________________________________________________________________\n",
      "dropout_9 (Dropout)             (None, 28, 12)       0           conv1d_9[0][0]                   \n",
      "__________________________________________________________________________________________________\n",
      "dropout_10 (Dropout)            (None, 29, 12)       0           conv1d_10[0][0]                  \n",
      "__________________________________________________________________________________________________\n",
      "dropout_11 (Dropout)            (None, 29, 12)       0           conv1d_11[0][0]                  \n",
      "__________________________________________________________________________________________________\n",
      "dropout_4 (Dropout)             (None, 55, 24)       0           conv1d_4[0][0]                   \n",
      "__________________________________________________________________________________________________\n",
      "dropout_3 (Dropout)             (None, 56, 24)       0           conv1d_3[0][0]                   \n",
      "__________________________________________________________________________________________________\n",
      "dropout_5 (Dropout)             (None, 53, 24)       0           conv1d_5[0][0]                   \n",
      "__________________________________________________________________________________________________\n",
      "dropout_1 (Dropout)             (None, 59, 24)       0           conv1d_1[0][0]                   \n",
      "__________________________________________________________________________________________________\n",
      "dropout_2 (Dropout)             (None, 58, 24)       0           conv1d_2[0][0]                   \n",
      "__________________________________________________________________________________________________\n",
      "concatenate_3 (Concatenate)     (None, 168, 12)      0           dropout_6[0][0]                  \n",
      "                                                                 dropout_7[0][0]                  \n",
      "                                                                 dropout_8[0][0]                  \n",
      "                                                                 dropout_9[0][0]                  \n",
      "                                                                 dropout_10[0][0]                 \n",
      "                                                                 dropout_11[0][0]                 \n",
      "__________________________________________________________________________________________________\n",
      "concatenate_2 (Concatenate)     (None, 281, 24)      0           dropout_4[0][0]                  \n",
      "                                                                 dropout_3[0][0]                  \n",
      "                                                                 dropout_5[0][0]                  \n",
      "                                                                 dropout_1[0][0]                  \n",
      "                                                                 dropout_2[0][0]                  \n",
      "__________________________________________________________________________________________________\n",
      "bidirectional_3 (Bidirectional) (None, 168, 24)      2400        concatenate_3[0][0]              \n",
      "__________________________________________________________________________________________________\n",
      "concatenate_4 (Concatenate)     (None, 449, 24)      0           concatenate_2[0][0]              \n",
      "                                                                 bidirectional_3[0][0]            \n",
      "__________________________________________________________________________________________________\n",
      "max_pooling1d_1 (MaxPooling1D)  (None, 112, 24)      0           concatenate_4[0][0]              \n",
      "__________________________________________________________________________________________________\n",
      "dropout_12 (Dropout)            (None, 112, 24)      0           max_pooling1d_1[0][0]            \n",
      "__________________________________________________________________________________________________\n",
      "flatten_1 (Flatten)             (None, 2688)         0           dropout_12[0][0]                 \n",
      "__________________________________________________________________________________________________\n",
      "dense_1 (Dense)                 (None, 26)           69914       flatten_1[0][0]                  \n",
      "__________________________________________________________________________________________________\n",
      "dense_2 (Dense)                 (None, 3)            81          dense_1[0][0]                    \n",
      "==================================================================================================\n",
      "Total params: 181,771\n",
      "Trainable params: 162,171\n",
      "Non-trainable params: 19,600\n",
      "__________________________________________________________________________________________________\n"
     ]
    }
   ],
   "source": [
    "model.summary()\n",
    "model.save('BalanceNet.h5')"
   ]
  },
  {
   "cell_type": "code",
   "execution_count": 32,
   "metadata": {},
   "outputs": [
    {
     "name": "stdout",
     "output_type": "stream",
     "text": [
      "Training Progress:\n",
      "WARNING:tensorflow:From C:\\Users\\user\\Miniconda3\\lib\\site-packages\\tensorflow\\python\\ops\\math_ops.py:3066: to_int32 (from tensorflow.python.ops.math_ops) is deprecated and will be removed in a future version.\n",
      "Instructions for updating:\n",
      "Use tf.cast instead.\n",
      "Train on 49 samples, validate on 21 samples\n",
      "Epoch 1/100\n",
      "49/49 [==============================] - 8s 155ms/step - loss: 1.1286 - acc: 0.4082 - val_loss: 1.0672 - val_acc: 0.4762\n",
      "Epoch 2/100\n",
      "49/49 [==============================] - 0s 4ms/step - loss: 1.1644 - acc: 0.4082 - val_loss: 1.1375 - val_acc: 0.2381\n",
      "Epoch 3/100\n",
      "49/49 [==============================] - 0s 6ms/step - loss: 1.1728 - acc: 0.3673 - val_loss: 1.0743 - val_acc: 0.4762\n",
      "Epoch 4/100\n",
      "49/49 [==============================] - 0s 5ms/step - loss: 1.1489 - acc: 0.2857 - val_loss: 1.1095 - val_acc: 0.2381\n",
      "Epoch 5/100\n",
      "49/49 [==============================] - 0s 6ms/step - loss: 1.0937 - acc: 0.3878 - val_loss: 1.0936 - val_acc: 0.4762\n",
      "Epoch 6/100\n",
      "49/49 [==============================] - 0s 5ms/step - loss: 1.1240 - acc: 0.3061 - val_loss: 1.1048 - val_acc: 0.2381\n",
      "Epoch 7/100\n",
      "49/49 [==============================] - 0s 5ms/step - loss: 1.1170 - acc: 0.3673 - val_loss: 1.0891 - val_acc: 0.4762\n",
      "Epoch 8/100\n",
      "49/49 [==============================] - 0s 6ms/step - loss: 1.1204 - acc: 0.3469 - val_loss: 1.0858 - val_acc: 0.4762\n",
      "Epoch 9/100\n",
      "49/49 [==============================] - 0s 5ms/step - loss: 1.1223 - acc: 0.3673 - val_loss: 1.1006 - val_acc: 0.2381\n",
      "Epoch 10/100\n",
      "49/49 [==============================] - 0s 6ms/step - loss: 1.1652 - acc: 0.2857 - val_loss: 1.1098 - val_acc: 0.2381\n",
      "Epoch 11/100\n",
      "49/49 [==============================] - 0s 6ms/step - loss: 1.1456 - acc: 0.2857 - val_loss: 1.1188 - val_acc: 0.2381\n",
      "Epoch 12/100\n",
      "49/49 [==============================] - 0s 6ms/step - loss: 1.1285 - acc: 0.3265 - val_loss: 1.1140 - val_acc: 0.2381\n",
      "Epoch 13/100\n",
      "49/49 [==============================] - 0s 5ms/step - loss: 1.1028 - acc: 0.4082 - val_loss: 1.1111 - val_acc: 0.2381\n",
      "Epoch 14/100\n",
      "49/49 [==============================] - 0s 6ms/step - loss: 1.1250 - acc: 0.2653 - val_loss: 1.1145 - val_acc: 0.2381\n",
      "Epoch 15/100\n",
      "49/49 [==============================] - 0s 6ms/step - loss: 1.1068 - acc: 0.3878 - val_loss: 1.1111 - val_acc: 0.2381\n",
      "Epoch 16/100\n",
      "49/49 [==============================] - 0s 5ms/step - loss: 1.1111 - acc: 0.2857 - val_loss: 1.1140 - val_acc: 0.2381\n",
      "Epoch 17/100\n",
      "49/49 [==============================] - 0s 6ms/step - loss: 1.1114 - acc: 0.2857 - val_loss: 1.1107 - val_acc: 0.2381\n",
      "Epoch 18/100\n",
      "49/49 [==============================] - 0s 6ms/step - loss: 1.0949 - acc: 0.3061 - val_loss: 1.0863 - val_acc: 0.4762\n",
      "Epoch 19/100\n",
      "49/49 [==============================] - 0s 5ms/step - loss: 1.1021 - acc: 0.3878 - val_loss: 1.1020 - val_acc: 0.3810\n",
      "Epoch 20/100\n",
      "49/49 [==============================] - 0s 5ms/step - loss: 1.1090 - acc: 0.3265 - val_loss: 1.1129 - val_acc: 0.2381\n",
      "Epoch 21/100\n",
      "49/49 [==============================] - 0s 6ms/step - loss: 1.0869 - acc: 0.3673 - val_loss: 1.1054 - val_acc: 0.2381\n",
      "Epoch 22/100\n",
      "49/49 [==============================] - 0s 5ms/step - loss: 1.1329 - acc: 0.2857 - val_loss: 1.1253 - val_acc: 0.2381\n",
      "Epoch 23/100\n",
      "49/49 [==============================] - 0s 6ms/step - loss: 1.1346 - acc: 0.3673 - val_loss: 1.1005 - val_acc: 0.4762\n",
      "Epoch 24/100\n",
      "49/49 [==============================] - 0s 5ms/step - loss: 1.1010 - acc: 0.3673 - val_loss: 1.1051 - val_acc: 0.4762\n",
      "Epoch 25/100\n",
      "49/49 [==============================] - 0s 6ms/step - loss: 1.0966 - acc: 0.4898 - val_loss: 1.0984 - val_acc: 0.4762\n",
      "Epoch 26/100\n",
      "49/49 [==============================] - 0s 6ms/step - loss: 1.1049 - acc: 0.3265 - val_loss: 1.0942 - val_acc: 0.4762\n",
      "Epoch 27/100\n",
      "49/49 [==============================] - 0s 5ms/step - loss: 1.1216 - acc: 0.4286 - val_loss: 1.1054 - val_acc: 0.4762\n",
      "Epoch 28/100\n",
      "49/49 [==============================] - 0s 6ms/step - loss: 1.0824 - acc: 0.3673 - val_loss: 1.1062 - val_acc: 0.2381\n",
      "Epoch 29/100\n",
      "49/49 [==============================] - 0s 5ms/step - loss: 1.1030 - acc: 0.3061 - val_loss: 1.1050 - val_acc: 0.4762\n",
      "Epoch 30/100\n",
      "49/49 [==============================] - 0s 6ms/step - loss: 1.1102 - acc: 0.3469 - val_loss: 1.1046 - val_acc: 0.4762\n",
      "Epoch 31/100\n",
      "49/49 [==============================] - 0s 5ms/step - loss: 1.0859 - acc: 0.3265 - val_loss: 1.1088 - val_acc: 0.2381\n",
      "Epoch 32/100\n",
      "49/49 [==============================] - 0s 6ms/step - loss: 1.0993 - acc: 0.3673 - val_loss: 1.1044 - val_acc: 0.4762\n",
      "Epoch 33/100\n",
      "49/49 [==============================] - 0s 6ms/step - loss: 1.1137 - acc: 0.3061 - val_loss: 1.1054 - val_acc: 0.3333\n",
      "Epoch 34/100\n",
      "49/49 [==============================] - 0s 5ms/step - loss: 1.1051 - acc: 0.4082 - val_loss: 1.1077 - val_acc: 0.2381\n",
      "Epoch 35/100\n",
      "49/49 [==============================] - 0s 6ms/step - loss: 1.0910 - acc: 0.3265 - val_loss: 1.1081 - val_acc: 0.2381\n",
      "Epoch 36/100\n",
      "49/49 [==============================] - 0s 6ms/step - loss: 1.1034 - acc: 0.3265 - val_loss: 1.1045 - val_acc: 0.2857\n",
      "Epoch 37/100\n",
      "49/49 [==============================] - 0s 6ms/step - loss: 1.0934 - acc: 0.3265 - val_loss: 1.1037 - val_acc: 0.2381\n",
      "Epoch 38/100\n",
      "49/49 [==============================] - 0s 5ms/step - loss: 1.1034 - acc: 0.3673 - val_loss: 1.0997 - val_acc: 0.2857\n",
      "Epoch 39/100\n",
      "49/49 [==============================] - 0s 6ms/step - loss: 1.1194 - acc: 0.2857 - val_loss: 1.1020 - val_acc: 0.2381\n",
      "Epoch 40/100\n",
      "49/49 [==============================] - 0s 5ms/step - loss: 1.1005 - acc: 0.3469 - val_loss: 1.1022 - val_acc: 0.2381\n",
      "Epoch 41/100\n",
      "49/49 [==============================] - 0s 5ms/step - loss: 1.1066 - acc: 0.3061 - val_loss: 1.1018 - val_acc: 0.2381\n",
      "Epoch 42/100\n",
      "49/49 [==============================] - 0s 6ms/step - loss: 1.1017 - acc: 0.3265 - val_loss: 1.1028 - val_acc: 0.2381\n",
      "Epoch 43/100\n",
      "49/49 [==============================] - 0s 5ms/step - loss: 1.0865 - acc: 0.3878 - val_loss: 1.1018 - val_acc: 0.2381\n",
      "Epoch 44/100\n",
      "49/49 [==============================] - 0s 6ms/step - loss: 1.1222 - acc: 0.3878 - val_loss: 1.1034 - val_acc: 0.2381\n",
      "Epoch 45/100\n",
      "49/49 [==============================] - 0s 5ms/step - loss: 1.0939 - acc: 0.4490 - val_loss: 1.1024 - val_acc: 0.2381\n",
      "Epoch 46/100\n",
      "49/49 [==============================] - 0s 6ms/step - loss: 1.0945 - acc: 0.3673 - val_loss: 1.1030 - val_acc: 0.2381\n",
      "Epoch 47/100\n",
      "49/49 [==============================] - 0s 6ms/step - loss: 1.1074 - acc: 0.3265 - val_loss: 1.1014 - val_acc: 0.2381\n",
      "Epoch 48/100\n",
      "49/49 [==============================] - 0s 5ms/step - loss: 1.0944 - acc: 0.4082 - val_loss: 1.1025 - val_acc: 0.2381\n",
      "Epoch 49/100\n",
      "49/49 [==============================] - 0s 6ms/step - loss: 1.1148 - acc: 0.3878 - val_loss: 1.1025 - val_acc: 0.2381\n",
      "Epoch 50/100\n",
      "49/49 [==============================] - 0s 5ms/step - loss: 1.1097 - acc: 0.3061 - val_loss: 1.1035 - val_acc: 0.2381\n",
      "Epoch 51/100\n",
      "49/49 [==============================] - 0s 6ms/step - loss: 1.0978 - acc: 0.4286 - val_loss: 1.1126 - val_acc: 0.2381\n",
      "Epoch 52/100\n",
      "49/49 [==============================] - 0s 5ms/step - loss: 1.1052 - acc: 0.3469 - val_loss: 1.1086 - val_acc: 0.2381\n",
      "Epoch 53/100\n",
      "49/49 [==============================] - 0s 6ms/step - loss: 1.1157 - acc: 0.3265 - val_loss: 1.1077 - val_acc: 0.2381\n",
      "Epoch 54/100\n",
      "49/49 [==============================] - 0s 6ms/step - loss: 1.1026 - acc: 0.3878 - val_loss: 1.1089 - val_acc: 0.2381\n",
      "Epoch 55/100\n",
      "49/49 [==============================] - 0s 6ms/step - loss: 1.1040 - acc: 0.3878 - val_loss: 1.1098 - val_acc: 0.2381\n",
      "Epoch 56/100\n",
      "49/49 [==============================] - 0s 5ms/step - loss: 1.1016 - acc: 0.3673 - val_loss: 1.1028 - val_acc: 0.2381\n",
      "Epoch 57/100\n",
      "49/49 [==============================] - 0s 6ms/step - loss: 1.1015 - acc: 0.3469 - val_loss: 1.1073 - val_acc: 0.2381\n",
      "Epoch 58/100\n",
      "49/49 [==============================] - 0s 6ms/step - loss: 1.0947 - acc: 0.3878 - val_loss: 1.1129 - val_acc: 0.2381\n",
      "Epoch 59/100\n",
      "49/49 [==============================] - 0s 6ms/step - loss: 1.1006 - acc: 0.3265 - val_loss: 1.1118 - val_acc: 0.2381\n",
      "Epoch 60/100\n",
      "49/49 [==============================] - 0s 6ms/step - loss: 1.1063 - acc: 0.3673 - val_loss: 1.1089 - val_acc: 0.2381\n"
     ]
    },
    {
     "name": "stdout",
     "output_type": "stream",
     "text": [
      "Epoch 61/100\n",
      "49/49 [==============================] - 0s 6ms/step - loss: 1.0978 - acc: 0.3469 - val_loss: 1.1004 - val_acc: 0.2381\n",
      "Epoch 62/100\n",
      "49/49 [==============================] - 0s 5ms/step - loss: 1.1000 - acc: 0.3469 - val_loss: 1.1079 - val_acc: 0.2381\n",
      "Epoch 63/100\n",
      "49/49 [==============================] - 0s 5ms/step - loss: 1.0934 - acc: 0.3673 - val_loss: 1.1169 - val_acc: 0.2381\n",
      "Epoch 64/100\n",
      "49/49 [==============================] - 0s 6ms/step - loss: 1.1185 - acc: 0.3878 - val_loss: 1.0960 - val_acc: 0.2381\n",
      "Epoch 65/100\n",
      "49/49 [==============================] - 0s 5ms/step - loss: 1.1052 - acc: 0.3061 - val_loss: 1.1060 - val_acc: 0.2381\n",
      "Epoch 66/100\n",
      "49/49 [==============================] - 0s 6ms/step - loss: 1.1042 - acc: 0.3061 - val_loss: 1.0995 - val_acc: 0.2857\n",
      "Epoch 67/100\n",
      "49/49 [==============================] - 0s 6ms/step - loss: 1.0860 - acc: 0.3469 - val_loss: 1.0951 - val_acc: 0.2381\n",
      "Epoch 68/100\n",
      "49/49 [==============================] - 0s 5ms/step - loss: 1.0908 - acc: 0.4082 - val_loss: 1.0968 - val_acc: 0.2381\n",
      "Epoch 69/100\n",
      "49/49 [==============================] - 0s 6ms/step - loss: 1.0860 - acc: 0.4082 - val_loss: 1.0949 - val_acc: 0.2381\n",
      "Epoch 70/100\n",
      "49/49 [==============================] - 0s 5ms/step - loss: 1.0961 - acc: 0.3469 - val_loss: 1.0970 - val_acc: 0.2381\n",
      "Epoch 71/100\n",
      "49/49 [==============================] - 0s 5ms/step - loss: 1.1225 - acc: 0.3878 - val_loss: 1.0997 - val_acc: 0.2381\n",
      "Epoch 72/100\n",
      "49/49 [==============================] - 0s 5ms/step - loss: 1.0994 - acc: 0.4286 - val_loss: 1.1061 - val_acc: 0.2381\n",
      "Epoch 73/100\n",
      "49/49 [==============================] - 0s 6ms/step - loss: 1.0870 - acc: 0.4286 - val_loss: 1.1142 - val_acc: 0.2381\n",
      "Epoch 74/100\n",
      "49/49 [==============================] - 0s 6ms/step - loss: 1.1071 - acc: 0.3673 - val_loss: 1.1118 - val_acc: 0.2381\n",
      "Epoch 75/100\n",
      "49/49 [==============================] - 0s 5ms/step - loss: 1.1131 - acc: 0.3265 - val_loss: 1.1187 - val_acc: 0.2381\n",
      "Epoch 76/100\n",
      "49/49 [==============================] - 0s 6ms/step - loss: 1.0954 - acc: 0.3673 - val_loss: 1.1138 - val_acc: 0.2381\n",
      "Epoch 77/100\n",
      "49/49 [==============================] - 0s 5ms/step - loss: 1.1107 - acc: 0.3878 - val_loss: 1.1169 - val_acc: 0.2381\n",
      "Epoch 78/100\n",
      "49/49 [==============================] - 0s 6ms/step - loss: 1.0764 - acc: 0.4082 - val_loss: 1.1104 - val_acc: 0.2381\n",
      "Epoch 79/100\n",
      "49/49 [==============================] - 0s 5ms/step - loss: 1.0846 - acc: 0.4490 - val_loss: 1.1098 - val_acc: 0.2381\n",
      "Epoch 80/100\n",
      "49/49 [==============================] - 0s 5ms/step - loss: 1.1066 - acc: 0.3673 - val_loss: 1.1006 - val_acc: 0.2381\n",
      "Epoch 81/100\n",
      "49/49 [==============================] - 0s 6ms/step - loss: 1.1187 - acc: 0.3878 - val_loss: 1.1023 - val_acc: 0.2381\n",
      "Epoch 82/100\n",
      "49/49 [==============================] - 0s 6ms/step - loss: 1.1073 - acc: 0.3878 - val_loss: 1.1051 - val_acc: 0.2381\n",
      "Epoch 83/100\n",
      "49/49 [==============================] - 0s 6ms/step - loss: 1.0663 - acc: 0.3673 - val_loss: 1.1052 - val_acc: 0.2381\n",
      "Epoch 84/100\n",
      "49/49 [==============================] - 0s 5ms/step - loss: 1.0984 - acc: 0.3469 - val_loss: 1.1124 - val_acc: 0.2381\n",
      "Epoch 85/100\n",
      "49/49 [==============================] - 0s 6ms/step - loss: 1.0719 - acc: 0.3673 - val_loss: 1.1145 - val_acc: 0.3333\n",
      "Epoch 86/100\n",
      "49/49 [==============================] - 0s 6ms/step - loss: 1.0807 - acc: 0.3469 - val_loss: 1.1144 - val_acc: 0.2381\n",
      "Epoch 87/100\n",
      "49/49 [==============================] - 0s 5ms/step - loss: 1.1171 - acc: 0.3673 - val_loss: 1.1111 - val_acc: 0.2381\n",
      "Epoch 88/100\n",
      "49/49 [==============================] - 0s 5ms/step - loss: 1.0900 - acc: 0.4082 - val_loss: 1.1146 - val_acc: 0.2381\n",
      "Epoch 89/100\n",
      "49/49 [==============================] - 0s 6ms/step - loss: 1.1087 - acc: 0.3878 - val_loss: 1.1090 - val_acc: 0.2381\n",
      "Epoch 90/100\n",
      "49/49 [==============================] - 0s 5ms/step - loss: 1.1020 - acc: 0.3878 - val_loss: 1.1049 - val_acc: 0.2381\n",
      "Epoch 91/100\n",
      "49/49 [==============================] - 0s 6ms/step - loss: 1.0769 - acc: 0.4490 - val_loss: 1.0972 - val_acc: 0.3333\n",
      "Epoch 92/100\n",
      "49/49 [==============================] - 0s 5ms/step - loss: 1.0933 - acc: 0.4490 - val_loss: 1.0901 - val_acc: 0.2381\n",
      "Epoch 93/100\n",
      "49/49 [==============================] - 0s 5ms/step - loss: 1.1028 - acc: 0.3878 - val_loss: 1.0916 - val_acc: 0.2381\n",
      "Epoch 94/100\n",
      "49/49 [==============================] - 0s 5ms/step - loss: 1.0822 - acc: 0.4490 - val_loss: 1.0901 - val_acc: 0.2381\n",
      "Epoch 95/100\n",
      "49/49 [==============================] - 0s 5ms/step - loss: 1.0904 - acc: 0.3673 - val_loss: 1.0888 - val_acc: 0.2381\n",
      "Epoch 96/100\n",
      "49/49 [==============================] - 0s 6ms/step - loss: 1.0561 - acc: 0.3673 - val_loss: 1.0879 - val_acc: 0.2381\n",
      "Epoch 97/100\n",
      "49/49 [==============================] - 0s 5ms/step - loss: 1.0878 - acc: 0.4490 - val_loss: 1.1051 - val_acc: 0.2381\n",
      "Epoch 98/100\n",
      "49/49 [==============================] - 0s 5ms/step - loss: 1.0579 - acc: 0.4490 - val_loss: 1.1258 - val_acc: 0.2381\n",
      "Epoch 99/100\n",
      "49/49 [==============================] - 0s 6ms/step - loss: 1.0756 - acc: 0.4082 - val_loss: 1.0745 - val_acc: 0.6667\n",
      "Epoch 100/100\n",
      "49/49 [==============================] - 0s 6ms/step - loss: 1.0533 - acc: 0.4898 - val_loss: 1.0913 - val_acc: 0.2381\n"
     ]
    }
   ],
   "source": [
    "print(\"Training Progress:\")\n",
    "model_log = model.fit(x_train, y_train, validation_data=(x_val, y_val),\n",
    "          epochs=100, batch_size=128,\n",
    "          callbacks=[tensorboard, model_checkpoints])\n",
    "\n",
    "pd.DataFrame(model_log.history).to_csv(\"history-balance.csv\")"
   ]
  },
  {
   "cell_type": "code",
   "execution_count": 33,
   "metadata": {},
   "outputs": [
    {
     "name": "stdout",
     "output_type": "stream",
     "text": [
      "1\n"
     ]
    }
   ],
   "source": [
    "from keras.models import load_model\n",
    "from sklearn.metrics import classification_report, confusion_matrix\n",
    "import matplotlib.pyplot as plt\n",
    "import numpy as np\n",
    "%config InlineBackend.figure_format = 'retina'\n",
    "import itertools, pickle\n",
    "\n",
    "with open('tokenizer.pickle', 'rb') as handle:\n",
    "    tokenizer = pickle.load(handle)\n",
    "\n",
    "def classify(text):\n",
    "    word = []\n",
    "    with open('tokenizer.pickle', 'rb') as handle:\n",
    "        tokenizer = pickle.load(handle)\n",
    "    word.append(text)\n",
    "    sequences_test = tokenizer.texts_to_sequences(word)\n",
    "    data_int_t = pad_sequences(sequences_test, padding='pre', maxlen=(MAX_SEQUENCE_LENGTH-5))\n",
    "    data_test = pad_sequences(data_int_t, padding='post', maxlen=(MAX_SEQUENCE_LENGTH))\n",
    "    y_prob = model.predict(data_test)\n",
    "    for n, prediction in enumerate(y_prob):\n",
    "        pred = y_prob.argmax(axis=-1)[n]\n",
    "        print(pred)\n",
    "\n",
    "classify(\"수강신청 언제야\")"
   ]
  }
 ],
 "metadata": {
  "kernelspec": {
   "display_name": "Python 3",
   "language": "python",
   "name": "python3"
  },
  "language_info": {
   "codemirror_mode": {
    "name": "ipython",
    "version": 3
   },
   "file_extension": ".py",
   "mimetype": "text/x-python",
   "name": "python",
   "nbconvert_exporter": "python",
   "pygments_lexer": "ipython3",
   "version": "3.7.1"
  }
 },
 "nbformat": 4,
 "nbformat_minor": 2
}
